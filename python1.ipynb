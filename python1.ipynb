{
  "nbformat": 4,
  "nbformat_minor": 0,
  "metadata": {
    "colab": {
      "name": "python1.ipynb",
      "provenance": [],
      "collapsed_sections": []
    },
    "kernelspec": {
      "name": "python3",
      "display_name": "Python 3"
    },
    "language_info": {
      "name": "python"
    }
  },
  "cells": [
    {
      "cell_type": "code",
      "execution_count": 1,
      "metadata": {
        "colab": {
          "base_uri": "https://localhost:8080/"
        },
        "id": "PsXhGyMo9iUm",
        "outputId": "aa77c194-74c6-45cd-c984-2ad5935e5b73"
      },
      "outputs": [
        {
          "output_type": "stream",
          "name": "stdout",
          "text": [
            "5\n"
          ]
        }
      ],
      "source": [
        "a=5\n",
        "print(a)"
      ]
    },
    {
      "cell_type": "code",
      "source": [
        "x,y=10,5\n",
        "print(x)\n",
        "print(y)"
      ],
      "metadata": {
        "colab": {
          "base_uri": "https://localhost:8080/"
        },
        "id": "A_m4bbdTAdd2",
        "outputId": "8570edf2-e563-4790-cbb3-7edf31a21b16"
      },
      "execution_count": 8,
      "outputs": [
        {
          "output_type": "stream",
          "name": "stdout",
          "text": [
            "10\n",
            "5\n"
          ]
        }
      ]
    },
    {
      "cell_type": "code",
      "source": [
        "print(\"Addition\",x+y)\n",
        "print(\"Substraction\",x-y)\n",
        "print(\"Multiplication\",x*y)\n",
        "print(\"Division\",x/y)\n",
        "print(\"Power\",x**y)\n",
        "print(\"Modulus\",x%y)\n",
        "print(\"Floor division\",x//y)"
      ],
      "metadata": {
        "colab": {
          "base_uri": "https://localhost:8080/"
        },
        "id": "THsEr0idBtav",
        "outputId": "940afdff-de75-4a9b-ced8-0d791e56e96e"
      },
      "execution_count": 9,
      "outputs": [
        {
          "output_type": "stream",
          "name": "stdout",
          "text": [
            "Addition 15\n",
            "Substraction 5\n",
            "Multiplication 50\n",
            "Division 2.0\n",
            "Power 100000\n",
            "Modulus 0\n",
            "Floor division 2\n"
          ]
        }
      ]
    },
    {
      "cell_type": "code",
      "source": [
        ""
      ],
      "metadata": {
        "id": "Gk3306_7EA1b"
      },
      "execution_count": null,
      "outputs": []
    }
  ]
}